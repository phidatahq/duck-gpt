{
 "cells": [
  {
   "cell_type": "markdown",
   "id": "63785634",
   "metadata": {},
   "source": [
    "### Build AI products with ChatGPT and your own data\n",
    "\n",
    "This notebook is a production implementation of the [OpenAI Recipe](https://github.com/openai/openai-cookbook/blob/main/apps/chatbot-kickstarter/powering_your_products_with_chatgpt_and_your_data.ipynb) for building a custom AI product using your own data. Steps:\n",
    "- **Setup:** \n",
    "    - Import libraries and get the custom data to load\n",
    "- **Build database:**\n",
    "    - Set up the vector database\n",
    "    - Load database: Read pdf files, split into chunks for embedding and store in a redis database\n",
    "- **Build a Prompt based product:**\n",
    "    - Ask a prompt and get the most relevant entries using semantic search\n",
    "    - Pass results to GPT-3 for summarization\n",
    "- **Build a Chat based product:**\n",
    "    - Use ChatGPT to answer questions using semantic search context\n",
    "\n",
    "By completion you'll have:\n",
    "- Your data stored in a vector database\n",
    "- Prompt api that can be used to build a prompt based product\n",
    "- Chat api that can be used to build a chat based product\n",
    "\n",
    "This notebook is a production implementation of this [openai-cookbook](https://github.com/openai/openai-cookbook/blob/main/apps/chatbot-kickstarter/powering_your_products_with_chatgpt_and_your_data.ipynb) which was presented with [these slides](https://drive.google.com/file/d/1dB-RQhZC_Q1iAsHkNNdkqtxxXqYODFYy/view?usp=share_link). We recommend reading the notebook and slides for full context."
   ]
  },
  {
   "cell_type": "code",
   "execution_count": 1,
   "id": "59f08ea7",
   "metadata": {},
   "outputs": [],
   "source": [
    "%load_ext autoreload\n",
    "%autoreload 2"
   ]
  },
  {
   "cell_type": "markdown",
   "id": "13649895",
   "metadata": {},
   "source": [
    "## Setup\n",
    "\n",
    "Import libraries and get the files to load"
   ]
  },
  {
   "cell_type": "code",
   "execution_count": 2,
   "id": "7590fbfc",
   "metadata": {},
   "outputs": [],
   "source": [
    "from typing import Iterator\n",
    "\n",
    "import os\n",
    "import openai\n",
    "import requests\n",
    "import numpy as np\n",
    "import pandas as pd\n",
    "import tiktoken\n",
    "import textract\n",
    "from numpy import array, average\n",
    "\n",
    "from assistant.database import get_redis_connection\n",
    "from assistant.settings import assistant_settings\n",
    "from workspace.settings import ws_settings"
   ]
  },
  {
   "cell_type": "code",
   "execution_count": 3,
   "id": "3f90817d",
   "metadata": {},
   "outputs": [
    {
     "name": "stdout",
     "output_type": "stream",
     "text": [
      "Found 5 files\n"
     ]
    }
   ],
   "source": [
    "data_dir = ws_settings.ws_root.joinpath(\"data\")\n",
    "\n",
    "pdf_files = sorted([x for x in data_dir.rglob(\"*.pdf\")])\n",
    "print(f\"Found {len(pdf_files)} files\")"
   ]
  },
  {
   "cell_type": "markdown",
   "id": "5dc4018c",
   "metadata": {},
   "source": [
    "## Build database"
   ]
  },
  {
   "cell_type": "markdown",
   "id": "632b82ed",
   "metadata": {
    "tags": []
   },
   "source": [
    "### Set up vector database\n",
    "\n",
    "We use Redis as the database for storing document contents and vector embeddings. Your workspace includes a redis-stack that can be started using `phi ws up dev:docker:redis`\n",
    "\n",
    "After the `redis-stack-container` is running, run the following commands to create a `Redis` connection and search index."
   ]
  },
  {
   "cell_type": "code",
   "execution_count": 4,
   "id": "17d6b886",
   "metadata": {},
   "outputs": [
    {
     "name": "stdout",
     "output_type": "stream",
     "text": [
      "Redis available: True\n"
     ]
    }
   ],
   "source": [
    "from redis import Redis\n",
    "from redis.commands.search.query import Query\n",
    "from redis.commands.search.field import TextField, VectorField, NumericField\n",
    "from redis.commands.search.indexDefinition import IndexDefinition, IndexType\n",
    "\n",
    "redis_client = get_redis_connection()\n",
    "print(\"Redis available: {}\".format(redis_client.ping()))"
   ]
  },
  {
   "cell_type": "code",
   "execution_count": 5,
   "id": "4f3d3e6b",
   "metadata": {},
   "outputs": [],
   "source": [
    "# Length of vectors\n",
    "VECTOR_DIM = 1536\n",
    "# Prefix for the documents\n",
    "PREFIX = \"sportsdoc\"\n",
    "# Distance metric for the vectors (ex. COSINE, IP, L2)\n",
    "DISTANCE_METRIC = \"COSINE\"\n",
    "# Name of the search index\n",
    "INDEX_NAME = \"f1-index\"\n",
    "# Name of search vector field\n",
    "VECTOR_FIELD_NAME = \"content_vector\""
   ]
  },
  {
   "cell_type": "code",
   "execution_count": 6,
   "id": "d3c352ca",
   "metadata": {},
   "outputs": [],
   "source": [
    "# Create a Hierarchical Navigable Small World (HNSW) index for semantic search.\n",
    "\n",
    "# Define RediSearch fields for each of the columns in the dataset\n",
    "# NOTE: This is where you should add any additional metadata you want to capture\n",
    "filename = TextField(\"filename\")\n",
    "text_chunk = TextField(\"text_chunk\")\n",
    "file_chunk_index = NumericField(\"file_chunk_index\")\n",
    "\n",
    "# Define RediSearch vector fields to use HNSW index\n",
    "text_embedding = VectorField(\n",
    "    VECTOR_FIELD_NAME,\n",
    "    \"HNSW\",\n",
    "    {\"TYPE\": \"FLOAT32\", \"DIM\": VECTOR_DIM, \"DISTANCE_METRIC\": DISTANCE_METRIC},\n",
    ")\n",
    "\n",
    "# Add all field objects to a list to be created as an index\n",
    "fields = [filename, text_chunk, file_chunk_index, text_embedding]"
   ]
  },
  {
   "cell_type": "code",
   "execution_count": 7,
   "id": "cf3ad41f",
   "metadata": {},
   "outputs": [
    {
     "name": "stdout",
     "output_type": "stream",
     "text": [
      "Index exists\n"
     ]
    }
   ],
   "source": [
    "# Optional: Drop the index if it already exists\n",
    "# redis_client.ft(INDEX_NAME).dropindex()\n",
    "\n",
    "# Check index exists\n",
    "try:\n",
    "    _info = redis_client.ft(INDEX_NAME).info()\n",
    "    print(\"Index exists\")\n",
    "except Exception as e:\n",
    "    # Create RediSearch Index\n",
    "    print(\"Creating RediSearch Index\")\n",
    "    redis_client.ft(INDEX_NAME).create_index(\n",
    "        fields=fields,\n",
    "        definition=IndexDefinition(prefix=[PREFIX], index_type=IndexType.HASH),\n",
    "    )\n",
    "    print(\"Index created\")"
   ]
  },
  {
   "cell_type": "markdown",
   "id": "f74ebeb5",
   "metadata": {},
   "source": [
    "### Ingestion\n",
    "\n",
    "Steps to load data:\n",
    "- Initiate the tokenizer\n",
    "- Run a pipeline to:\n",
    "    - Read pdf files into text\n",
    "    - Split into chunks and create embeddings\n",
    "    - Store in a Redis database"
   ]
  },
  {
   "cell_type": "code",
   "execution_count": 8,
   "id": "ed23bf9d",
   "metadata": {},
   "outputs": [],
   "source": [
    "# The assistant/transformers.py file contains all the transforming functions\n",
    "# including ones to chunk, embed and load data\n",
    "from assistant.transformers import handle_file_string"
   ]
  },
  {
   "cell_type": "code",
   "execution_count": 9,
   "id": "31f299f6",
   "metadata": {},
   "outputs": [
    {
     "name": "stdout",
     "output_type": "stream",
     "text": [
      "Loading: /mnt/workspaces/ai-app/data/FIA Practice Directions - Competitor's Staff Registration System.pdf\n",
      "[transformer] Created embedding for /mnt/workspaces/ai-app/data/FIA Practice Directions - Competitor's Staff Registration System.pdf\n",
      "Loading: /mnt/workspaces/ai-app/data/fia_2022_formula_1_sporting_regulations_-_issue_9_-_2022-10-19_0.pdf\n",
      "[transformer] Created embedding for /mnt/workspaces/ai-app/data/fia_2022_formula_1_sporting_regulations_-_issue_9_-_2022-10-19_0.pdf\n",
      "Loading: /mnt/workspaces/ai-app/data/fia_2023_formula_1_technical_regulations_-_issue_4_-_2022-12-07.pdf\n",
      "[transformer] Created embedding for /mnt/workspaces/ai-app/data/fia_2023_formula_1_technical_regulations_-_issue_4_-_2022-12-07.pdf\n",
      "Loading: /mnt/workspaces/ai-app/data/fia_f1_power_unit_financial_regulations_issue_1_-_2022-08-16.pdf\n",
      "[transformer] Created embedding for /mnt/workspaces/ai-app/data/fia_f1_power_unit_financial_regulations_issue_1_-_2022-08-16.pdf\n",
      "Loading: /mnt/workspaces/ai-app/data/fia_formula_1_financial_regulations_iss.13.pdf\n",
      "[transformer] Created embedding for /mnt/workspaces/ai-app/data/fia_formula_1_financial_regulations_iss.13.pdf\n",
      "CPU times: user 4.28 s, sys: 279 ms, total: 4.56 s\n",
      "Wall time: 48.7 s\n"
     ]
    }
   ],
   "source": [
    "%%time\n",
    "# Note: This step takes time as it loads the pdf_files\n",
    "\n",
    "# Initialise tokenizer\n",
    "tokenizer = tiktoken.get_encoding(\"cl100k_base\")\n",
    "\n",
    "# Process each PDF file and prepare for embedding\n",
    "for pdf_file_path in pdf_files:\n",
    "    print(f\"Loading: {pdf_file_path}\")\n",
    "\n",
    "    # Extract the raw text from each PDF using textract\n",
    "    text = textract.process(str(pdf_file_path), method=\"pdfminer\")\n",
    "\n",
    "    # Chunk each document, embed the contents and load to Redis\n",
    "    handle_file_string(\n",
    "        (pdf_file_path, text.decode(\"utf-8\")),\n",
    "        tokenizer,\n",
    "        redis_client,\n",
    "        VECTOR_FIELD_NAME,\n",
    "        INDEX_NAME,\n",
    "    )"
   ]
  },
  {
   "cell_type": "code",
   "execution_count": 10,
   "id": "22aff597",
   "metadata": {},
   "outputs": [
    {
     "data": {
      "text/plain": [
       "'1320'"
      ]
     },
     "execution_count": 10,
     "metadata": {},
     "output_type": "execute_result"
    }
   ],
   "source": [
    "# Check if documents have been inserted\n",
    "redis_client.ft(INDEX_NAME).info()[\"num_docs\"]"
   ]
  },
  {
   "cell_type": "markdown",
   "id": "6b12cb6e",
   "metadata": {},
   "source": [
    "## Build a Prompt based product\n",
    "\n",
    "Build a prompt based product by:\n",
    "- Getting results from Redis for a prompt using semantic search\n",
    "- Passing the results to GPT-3 for summarisation"
   ]
  },
  {
   "cell_type": "code",
   "execution_count": 11,
   "id": "e921ac96",
   "metadata": {},
   "outputs": [],
   "source": [
    "from assistant.database import get_redis_results"
   ]
  },
  {
   "cell_type": "code",
   "execution_count": 12,
   "id": "cb9dfacf",
   "metadata": {},
   "outputs": [
    {
     "name": "stdout",
     "output_type": "stream",
     "text": [
      "Found 2 matching results\n",
      "CPU times: user 5.89 ms, sys: 3.55 ms, total: 9.45 ms\n",
      "Wall time: 167 ms\n"
     ]
    },
    {
     "data": {
      "text/html": [
       "<div>\n",
       "<style scoped>\n",
       "    .dataframe tbody tr th:only-of-type {\n",
       "        vertical-align: middle;\n",
       "    }\n",
       "\n",
       "    .dataframe tbody tr th {\n",
       "        vertical-align: top;\n",
       "    }\n",
       "\n",
       "    .dataframe thead th {\n",
       "        text-align: right;\n",
       "    }\n",
       "</style>\n",
       "<table border=\"1\" class=\"dataframe\">\n",
       "  <thead>\n",
       "    <tr style=\"text-align: right;\">\n",
       "      <th></th>\n",
       "      <th>id</th>\n",
       "      <th>result</th>\n",
       "      <th>certainty</th>\n",
       "    </tr>\n",
       "  </thead>\n",
       "  <tbody>\n",
       "    <tr>\n",
       "      <th>0</th>\n",
       "      <td>0</td>\n",
       "      <td>1     Each Power Unit Manufacturer must:     (...</td>\n",
       "      <td>0.160094380379</td>\n",
       "    </tr>\n",
       "    <tr>\n",
       "      <th>1</th>\n",
       "      <td>1</td>\n",
       "      <td>1     Each Power Unit Manufacturer must:     (...</td>\n",
       "      <td>0.160094380379</td>\n",
       "    </tr>\n",
       "  </tbody>\n",
       "</table>\n",
       "</div>"
      ],
      "text/plain": [
       "   id                                             result       certainty\n",
       "0   0  1     Each Power Unit Manufacturer must:     (...  0.160094380379\n",
       "1   1  1     Each Power Unit Manufacturer must:     (...  0.160094380379"
      ]
     },
     "execution_count": 12,
     "metadata": {},
     "output_type": "execute_result"
    }
   ],
   "source": [
    "%%time\n",
    "\n",
    "prompt_query = \"what is the cost cap for a power unit in 2023\"\n",
    "\n",
    "result_df = get_redis_results(redis_client, prompt_query, index_name=INDEX_NAME)\n",
    "print(f\"Found {len(result_df)} matching results\")\n",
    "result_df.tail(2)"
   ]
  },
  {
   "cell_type": "markdown",
   "id": "0b82e91e-7d5d-47eb-92e6-f3cc95de03a6",
   "metadata": {},
   "source": [
    "### Build a prompt that provides the original query, the results and asks GPT to summarize them."
   ]
  },
  {
   "cell_type": "code",
   "execution_count": 13,
   "id": "d620699c-98e1-4fc4-b889-11299194edfd",
   "metadata": {},
   "outputs": [],
   "source": [
    "summary_prompt = \"\"\"Summarise this result in a bulleted list to answer the search query a customer has sent.\n",
    "Search query: {}\n",
    "Search result: {}\n",
    "Summary:\n",
    "\"\"\".format(\n",
    "    prompt_query, result_df[\"result\"][0]\n",
    ")\n",
    "# print(f\"Prompt: {summary_prompt}\")"
   ]
  },
  {
   "cell_type": "code",
   "execution_count": 14,
   "id": "51340903",
   "metadata": {},
   "outputs": [
    {
     "name": "stdout",
     "output_type": "stream",
     "text": [
      "\n",
      "- The Power Unit Cost Cap for 2023 is set at 95,000,000 US Dollars.\n",
      "- The Cost Cap is adjusted for Indexation in the Full Year Reporting Periods ending on 31 December 2024 and 2025. \n",
      "- For the Full Year Reporting Period ending on 31 December 2026 and subsequent periods, the cost cap is set at 130,000,000 US Dollars. \n",
      "- Each Power Unit Manufacturer must demonstrate and cooperate with the Cost Cap Administration in its regulatory function, including providing information and documentation and acting in a spirit of Good Faith and cooperation.\n"
     ]
    }
   ],
   "source": [
    "summary = openai.Completion.create(\n",
    "    engine=assistant_settings.completions_model, prompt=summary_prompt, max_tokens=500\n",
    ")\n",
    "# Response provided by GPT-3\n",
    "print(summary[\"choices\"][0][\"text\"])"
   ]
  },
  {
   "cell_type": "markdown",
   "id": "d008ff23",
   "metadata": {},
   "source": [
    "### Test Prompt App\n",
    "\n",
    "Now that we've have our knowledge embedded and stored in Redis, we can create a streamlit applications to test prompts internally. \n",
    "\n",
    "Run `phi ws up dev:docker:app` to run the Streamlit App on http://localhost:9095\n",
    "\n",
    "Open the Streamlit app in your browser and click on the Prompt Product to ask questions from your embedded data.\n",
    "\n",
    "__Example Questions__:\n",
    "- what is the cost cap for a power unit in 2023\n",
    "- what should competitors include on their application form"
   ]
  },
  {
   "cell_type": "markdown",
   "id": "dd12b31e",
   "metadata": {},
   "source": [
    "## Build a Chat based product\n",
    "\n",
    "The Prompt product was useful, but fairly limited in the complexity of interaction. If the user asks a sub-optimal question, there is no assistance from the system to prompt them for more info or conversation to lead them down the right path.\n",
    "\n",
    "Lets build a Chat product using the Chat Completions endpoint, which will:\n",
    "- Accept instructions on how it should act and what the goals of its users are\n",
    "- Accept some required information that it needs to collect\n",
    "- Go back and forth with the customer until it has populated that information\n",
    "- Say a trigger word that will kick off semantic search and summarisation of the response\n",
    "\n",
    "For more details on our Chat Completions endpoint and how to interact with it, please check out the docs [here](https://platform.openai.com/docs/guides/chat)."
   ]
  },
  {
   "cell_type": "markdown",
   "id": "34135886",
   "metadata": {},
   "source": [
    "### Framework\n",
    "\n",
    "This section outlines a basic framework for working with the API and storing context of previous conversation \"turns\". Once this is established, we'll extend it to use our retrieval endpoint."
   ]
  },
  {
   "cell_type": "code",
   "execution_count": 15,
   "id": "45c0acc8",
   "metadata": {},
   "outputs": [
    {
     "name": "stdout",
     "output_type": "stream",
     "text": [
      "assistant: As an AI language model, I can help you in many ways! Here are some examples:\n",
      "\n",
      "1. Answering questions: I can provide you with quick and accurate answers to any questions you may have on a variety of topics such as science, history, geography, and more.\n",
      "\n",
      "2. Generating ideas: I can provide you with ideas and suggestions for creative endeavors such as writing, art, or even gift ideas.\n",
      "\n",
      "3. Writing assistance: If you need help with writing, I can offer suggestions for grammar, spelling, syntax, and formatting to help improve your work.\n",
      "\n",
      "4. Entertainment: I can provide engaging conversation, play games with you or even offer fun anecdotes to brighten up your day.\n",
      "\n",
      "5. Personal assistant: I can help you with scheduling, planning, setting reminders, and even alarms.\n",
      "\n",
      "6. Language translation: I can assist you by translating phrases, sentences, or paragraphs to different languages.\n",
      "\n",
      "There are so many ways that I can help you with everyday tasks or with specific projects. Just let me know what you need, and I'll do my best to assist you!\n"
     ]
    }
   ],
   "source": [
    "# A basic example of how to interact with the ChatCompletion endpoint\n",
    "# It requires a list of \"messages\", consisting of a \"role\" (one of system, user or assistant) and \"content\"\n",
    "\n",
    "question = \"How can you help me\"\n",
    "completion = openai.ChatCompletion.create(\n",
    "    model=\"gpt-3.5-turbo\", messages=[{\"role\": \"user\", \"content\": question}]\n",
    ")\n",
    "print(\n",
    "    f\"{completion['choices'][0]['message']['role']}: {completion['choices'][0]['message']['content']}\"\n",
    ")"
   ]
  },
  {
   "cell_type": "code",
   "execution_count": 16,
   "id": "23e4fc55",
   "metadata": {},
   "outputs": [],
   "source": [
    "from assistant.message import Message\n",
    "from assistant.chatbot import Chatbot"
   ]
  },
  {
   "cell_type": "code",
   "execution_count": 17,
   "id": "e18c88b4",
   "metadata": {},
   "outputs": [
    {
     "data": {
      "text/plain": [
       "[{'role': 'system',\n",
       "  'content': 'You are a helpful business assistant who has innovative ideas'},\n",
       " {'role': 'user', 'content': 'What can you do to help me'}]"
      ]
     },
     "execution_count": 17,
     "metadata": {},
     "output_type": "execute_result"
    }
   ],
   "source": [
    "# Initiate a Chatbot conversation\n",
    "conversation = Chatbot()\n",
    "\n",
    "# Create a list to hold the messages and insert:\n",
    "# 1. A system message to guide behaviour\n",
    "# 2. The first user question\n",
    "\n",
    "messages = []\n",
    "system_message = Message(\n",
    "    \"system\", \"You are a helpful business assistant who has innovative ideas\"\n",
    ")\n",
    "user_message = Message(\"user\", \"What can you do to help me\")\n",
    "messages.append(system_message.message())\n",
    "messages.append(user_message.message())\n",
    "messages"
   ]
  },
  {
   "cell_type": "code",
   "execution_count": 18,
   "id": "377243c9",
   "metadata": {},
   "outputs": [
    {
     "name": "stdout",
     "output_type": "stream",
     "text": [
      "As a business assistant, I can help you in various ways. Here are some innovative ideas that I can offer:\n",
      "\n",
      "1. Social media management: I can help you manage your social media accounts and create engaging content to increase your online presence.\n",
      "\n",
      "2. Email marketing: I can help you create and send out email campaigns to your subscribers to promote your products or services.\n",
      "\n",
      "3. Customer service: I can assist you in providing excellent customer service by responding to inquiries and resolving issues promptly.\n",
      "\n",
      "4. Market research: I can conduct market research to help you identify new opportunities and stay ahead of your competitors.\n",
      "\n",
      "5. Content creation: I can help you create high-quality content for your website, blog, or social media channels to attract and engage your target audience.\n",
      "\n",
      "6. Project management: I can assist you in managing your projects, ensuring that they are completed on time and within budget.\n",
      "\n",
      "7. Business strategy: I can help you develop a comprehensive business strategy that aligns with your goals and objectives.\n",
      "\n",
      "These are just a few examples of how I can help you. Let me know if you have any specific requirements or ideas, and I will be happy to assist you.\n"
     ]
    }
   ],
   "source": [
    "# Get back a response from the Chatbot to our question\n",
    "response_message = conversation.ask_assistant(messages)\n",
    "print(response_message[\"content\"])"
   ]
  },
  {
   "cell_type": "code",
   "execution_count": 19,
   "id": "f364c3b5",
   "metadata": {},
   "outputs": [
    {
     "name": "stdout",
     "output_type": "stream",
     "text": [
      "Email marketing is a powerful tool that can help you reach out to your customers and promote your products or services. Here are some ways I can help you with email marketing:\n",
      "\n",
      "1. Email campaign creation: I can help you create engaging email campaigns that are tailored to your target audience. This includes designing email templates, writing compelling copy, and creating eye-catching graphics.\n",
      "\n",
      "2. Email list management: I can help you manage your email list by segmenting it based on demographics, interests, and behavior. This ensures that your emails are targeted and relevant to your subscribers.\n",
      "\n",
      "3. Email automation: I can help you set up email automation workflows that send out emails based on triggers such as sign-ups, purchases, or abandoned carts. This saves you time and ensures that your subscribers receive timely and relevant emails.\n",
      "\n",
      "4. Email analytics: I can help you track and analyze your email campaigns' performance, including open rates, click-through rates, and conversions. This helps you optimize your campaigns and improve your ROI.\n",
      "\n",
      "5. Email list growth: I can help you grow your email list by implementing lead magnets, pop-ups, and other strategies that encourage visitors to sign up for your newsletter.\n",
      "\n",
      "Overall, email marketing is an effective way to stay in touch with your customers and promote your business. Let me know if you need any help with email marketing, and I will be happy to assist you.\n"
     ]
    }
   ],
   "source": [
    "next_question = \"Tell me more about option 2\"\n",
    "\n",
    "# Initiate a fresh messages list and insert our next question\n",
    "messages = []\n",
    "user_message = Message(\"user\", next_question)\n",
    "messages.append(user_message.message())\n",
    "response_message = conversation.ask_assistant(messages)\n",
    "print(response_message[\"content\"])"
   ]
  },
  {
   "cell_type": "code",
   "execution_count": 20,
   "id": "f62842a1",
   "metadata": {},
   "outputs": [
    {
     "name": "stdout",
     "output_type": "stream",
     "text": [
      "user:\n",
      "What can you do to help me\n",
      "\u001b[32massistant:\n",
      "As a business assistant, I can help you in various ways. Here are some innovative ideas that I can offer:\n",
      "\n",
      "1. Social media management: I can help you manage your social media accounts and create engaging content to increase your online presence.\n",
      "\n",
      "2. Email marketing: I can help you create and send out email campaigns to your subscribers to promote your products or services.\n",
      "\n",
      "3. Customer service: I can assist you in providing excellent customer service by responding to inquiries and resolving issues promptly.\n",
      "\n",
      "4. Market research: I can conduct market research to help you identify new opportunities and stay ahead of your competitors.\n",
      "\n",
      "5. Content creation: I can help you create high-quality content for your website, blog, or social media channels to attract and engage your target audience.\n",
      "\n",
      "6. Project management: I can assist you in managing your projects, ensuring that they are completed on time and within budget.\n",
      "\n",
      "7. Business strategy: I can help you develop a comprehensive business strategy that aligns with your goals and objectives.\n",
      "\n",
      "These are just a few examples of how I can help you. Let me know if you have any specific requirements or ideas, and I will be happy to assist you.\u001b[0m\n",
      "user:\n",
      "Tell me more about option 2\n",
      "\u001b[32massistant:\n",
      "Email marketing is a powerful tool that can help you reach out to your customers and promote your products or services. Here are some ways I can help you with email marketing:\n",
      "\n",
      "1. Email campaign creation: I can help you create engaging email campaigns that are tailored to your target audience. This includes designing email templates, writing compelling copy, and creating eye-catching graphics.\n",
      "\n",
      "2. Email list management: I can help you manage your email list by segmenting it based on demographics, interests, and behavior. This ensures that your emails are targeted and relevant to your subscribers.\n",
      "\n",
      "3. Email automation: I can help you set up email automation workflows that send out emails based on triggers such as sign-ups, purchases, or abandoned carts. This saves you time and ensures that your subscribers receive timely and relevant emails.\n",
      "\n",
      "4. Email analytics: I can help you track and analyze your email campaigns' performance, including open rates, click-through rates, and conversions. This helps you optimize your campaigns and improve your ROI.\n",
      "\n",
      "5. Email list growth: I can help you grow your email list by implementing lead magnets, pop-ups, and other strategies that encourage visitors to sign up for your newsletter.\n",
      "\n",
      "Overall, email marketing is an effective way to stay in touch with your customers and promote your business. Let me know if you need any help with email marketing, and I will be happy to assist you.\u001b[0m\n"
     ]
    }
   ],
   "source": [
    "# Print out a log of our conversation so far\n",
    "\n",
    "conversation.pretty_print_conversation_history()"
   ]
  },
  {
   "cell_type": "markdown",
   "id": "f18d5b54",
   "metadata": {},
   "source": [
    "### Knowledge retrieval\n",
    "\n",
    "Now we'll extend the class to call a downstream service when a stop sequence is spoken by the Chatbot.\n",
    "\n",
    "The main changes are:\n",
    "- The system message is more comprehensive, giving criteria for the Chatbot to advance the conversation\n",
    "- Adding an explicit stop sequence for it to use when it has the info it needs\n",
    "- Extending the class with a function ```_get_search_results``` which sources Redis results"
   ]
  },
  {
   "cell_type": "code",
   "execution_count": 21,
   "id": "8a0cef87",
   "metadata": {},
   "outputs": [],
   "source": [
    "# Updated system prompt requiring Question and Year to be extracted from the user\n",
    "\n",
    "system_prompt = \"\"\"\n",
    "You are a helpful Formula 1 knowledge base assistant. You need to capture a Question and Year from each customer.\n",
    "The Question is their query on Formula 1, and the Year is the year of the applicable Formula 1 season.\n",
    "If they haven't provided the Year, ask them for it again.\n",
    "Once you have the Year, say \"searching for answers\".\n",
    "\n",
    "Example 1:\n",
    "\n",
    "User: I'd like to know the cost cap for a power unit\n",
    "\n",
    "Assistant: Certainly, what year would you like this for?\n",
    "\n",
    "User: 2023 please.\n",
    "\n",
    "Assistant: Searching for answers.\n",
    "\"\"\""
   ]
  },
  {
   "cell_type": "code",
   "execution_count": 22,
   "id": "101d502c",
   "metadata": {},
   "outputs": [
    {
     "data": {
      "text/plain": [
       "{'role': 'assistant', 'content': 'Sure, what year would you like this for?'}"
      ]
     },
     "execution_count": 22,
     "metadata": {},
     "output_type": "execute_result"
    }
   ],
   "source": [
    "# Create another Chatbot conversation\n",
    "conversation = Chatbot()\n",
    "\n",
    "# Create a list to hold the messages and insert:\n",
    "# 1. A system_prompt to guide behaviour\n",
    "# 2. The first user question\n",
    "messages = []\n",
    "system_message = Message(\"system\", system_prompt)\n",
    "user_message = Message(\"user\", \"How can a competitor be disqualified from competition\")\n",
    "messages.append(system_message.message())\n",
    "messages.append(user_message.message())\n",
    "response_message = conversation.ask_assistant(messages)\n",
    "response_message"
   ]
  },
  {
   "cell_type": "code",
   "execution_count": 23,
   "id": "702eb4fc",
   "metadata": {},
   "outputs": [],
   "source": [
    "messages = []\n",
    "user_message = Message(\"user\", \"For 2023 please.\")\n",
    "messages.append(user_message.message())\n",
    "response_message = conversation.ask_assistant(messages)\n",
    "# response_message"
   ]
  },
  {
   "cell_type": "code",
   "execution_count": 24,
   "id": "e2f2c812",
   "metadata": {},
   "outputs": [
    {
     "name": "stdout",
     "output_type": "stream",
     "text": [
      "user:\n",
      "How can a competitor be disqualified from competition\n",
      "\u001b[32massistant:\n",
      "Sure, what year would you like this for?\u001b[0m\n",
      "user:\n",
      "For 2023 please.\n",
      "\u001b[32massistant:\n",
      "According to the FIA Sporting Regulations for the 2023 Formula One season, a competitor can be disqualified from the competition if they breach the FIA regulations. The International Tribunal (IT) will investigate and establish the existence of the breach and impose any sanction upon the person and competitor concerned. The President of the FIA, in its capacity as prosecuting authority, will ask for the imposition of a suspension upon Competitor’s Staff Certificate of Registration holders who have contravened the FIA Code of Good Standing or the withdrawal of the Competitor’s Staff Certificate of Registration. The person and/or competitor sanctioned may bring an appeal before the ICA against the IT’s decision.\u001b[0m\n"
     ]
    }
   ],
   "source": [
    "conversation.pretty_print_conversation_history()"
   ]
  },
  {
   "cell_type": "markdown",
   "id": "a9f9ef37",
   "metadata": {},
   "source": [
    "### Test Chatbot App\n",
    "\n",
    "Run `phi ws up dev:docker:app` to run the Streamlit App on http://localhost:9095\n",
    "\n",
    "Open the Streamlit app in your browser and click on the Chat Product to chat with your embedded data.\n",
    "\n",
    "__Example Questions__:\n",
    "- what is the cost cap for a power unit in 2023\n",
    "- what should competitors include on their application form\n",
    "- how can a competitor be disqualified"
   ]
  },
  {
   "cell_type": "markdown",
   "id": "b8e6c4ca",
   "metadata": {},
   "source": [
    "### Summary\n",
    "\n",
    "By now you have:\n",
    "- Your data embedded in a vector database.\n",
    "- A prompt application to answer basic questions on that data.\n",
    "- A chat application to chat with your data.\n",
    "\n",
    "These are the foundational building blocks for any Prompt or Chat based products using OpenAI - these are your starting point, and we look forward to seeing what you build with them!"
   ]
  }
 ],
 "metadata": {
  "kernelspec": {
   "display_name": "Python 3 (ipykernel)",
   "language": "python",
   "name": "python3"
  },
  "language_info": {
   "codemirror_mode": {
    "name": "ipython",
    "version": 3
   },
   "file_extension": ".py",
   "mimetype": "text/x-python",
   "name": "python",
   "nbconvert_exporter": "python",
   "pygments_lexer": "ipython3",
   "version": "3.9.15"
  }
 },
 "nbformat": 4,
 "nbformat_minor": 5
}
