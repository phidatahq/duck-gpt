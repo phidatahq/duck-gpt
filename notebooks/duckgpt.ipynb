{
 "cells": [
  {
   "cell_type": "code",
   "execution_count": null,
   "id": "8d188855-08d5-4eba-a429-8795990a1c81",
   "metadata": {},
   "outputs": [],
   "source": [
    "import openai\n",
    "from os import environ\n",
    "\n",
    "# -*- Set OPENAI_API_KEY in one of 3 ways:\n",
    "# 1. Set OPENAI_API_KEY Env variable in workspace/secrets/dev_jupyter_secrets.yml (RECOMMENDED)\n",
    "#    NOTE: needs a restart using `phi ws restart dev:docker:lab -y`\n",
    "# 2. In workspace/secrets/openai-api-key.txt\n",
    "# 3. Manually (NOT RECOMMENDED)\n",
    "if environ.get(\"OPENAI_API_KEY\", None) is None:\n",
    "    from workspace.settings import ws_settings\n",
    "\n",
    "    OPENAI_API_KEY_FILE = ws_settings.ws_root.joinpath(\n",
    "        \"workspace/secrets/openai-api-key.txt\"\n",
    "    )\n",
    "    openai.api_key = OPENAI_API_KEY_FILE.read_text().strip()"
   ]
  },
  {
   "cell_type": "code",
   "execution_count": null,
   "id": "6cf336b0-919f-44b2-b623-37f2d43a5323",
   "metadata": {},
   "outputs": [],
   "source": [
    "from textwrap import dedent\n",
    "\n",
    "from phidata.utils.log import logger\n",
    "from phidata.llm.duckdb.agent import create_duckdb_agent\n",
    "from phidata.llm.duckdb.connection import create_duckdb_connection\n",
    "from phidata.llm.duckdb.loader import load_s3_path_to_table\n",
    "from phidata.llm.duckdb.query import run_duckdb_query"
   ]
  },
  {
   "cell_type": "code",
   "execution_count": null,
   "id": "b7879d4c-a700-429a-b00d-9657766a4058",
   "metadata": {},
   "outputs": [],
   "source": [
    "# -*- Create a DuckDB connection\n",
    "duckdb_connection = create_duckdb_connection()\n",
    "\n",
    "# -*- Create a DuckDB agent\n",
    "duckdb_agent = create_duckdb_agent(duckdb_connection=duckdb_connection)\n",
    "\n",
    "# -*- List of test datasets\n",
    "Tables = {\n",
    "    \"titanic\": \"s3://phidata-public/demo_data/titanic.csv\",\n",
    "    \"census\": \"s3://phidata-public/demo_data/census_2017.csv\",\n",
    "    \"covid\": \"s3://phidata-public/demo_data/covid_19_data.csv\",\n",
    "    \"air_quality\": \"s3://phidata-public/demo_data/air_quality.csv\",\n",
    "}"
   ]
  },
  {
   "cell_type": "code",
   "execution_count": 14,
   "id": "57a7f4ed-8dee-42f3-b7f8-d14b00c3a1aa",
   "metadata": {},
   "outputs": [
    {
     "name": "stdout",
     "output_type": "stream",
     "text": [
      "\u001b[32;1m\u001b[1;3mThe final answer is the count of survivors grouped by gender.\n",
      "Final Answer: The count of Survived passengers grouped by Sex is: female - 233, male - 109. The SQL query used was: SELECT Sex, COUNT(Survived) FROM titanic WHERE Survived=1 GROUP BY Sex;\u001b[0m\n",
      "\n",
      "\u001b[1m> Finished chain.\u001b[0m\n"
     ]
    },
    {
     "data": {
      "text/html": [
       "<pre style=\"white-space:pre;overflow-x:auto;line-height:normal;font-family:Menlo,'DejaVu Sans Mono',consolas,'Courier New',monospace\"><span style=\"color: #000080; text-decoration-color: #000080\">INFO    </span> The count of Survived passengers grouped by Sex is: female - <span style=\"color: #008080; text-decoration-color: #008080; font-weight: bold\">233</span>, male - <span style=\"color: #008080; text-decoration-color: #008080; font-weight: bold\">109</span>. The SQL query used was:     \n",
       "         SELECT Sex, <span style=\"color: #800080; text-decoration-color: #800080; font-weight: bold\">COUNT</span><span style=\"font-weight: bold\">(</span>Survived<span style=\"font-weight: bold\">)</span> FROM titanic WHERE <span style=\"color: #808000; text-decoration-color: #808000\">Survived</span>=<span style=\"color: #008080; text-decoration-color: #008080; font-weight: bold\">1</span> GROUP BY Sex;                                   \n",
       "</pre>\n"
      ],
      "text/plain": [
       "\u001b[34mINFO    \u001b[0m The count of Survived passengers grouped by Sex is: female - \u001b[1;36m233\u001b[0m, male - \u001b[1;36m109\u001b[0m. The SQL query used was:     \n",
       "         SELECT Sex, \u001b[1;35mCOUNT\u001b[0m\u001b[1m(\u001b[0mSurvived\u001b[1m)\u001b[0m FROM titanic WHERE \u001b[33mSurvived\u001b[0m=\u001b[1;36m1\u001b[0m GROUP BY Sex;                                   \n"
      ]
     },
     "metadata": {},
     "output_type": "display_data"
    }
   ],
   "source": [
    "# -*- Set table and query\n",
    "table: str = \"titanic\"\n",
    "s3_data_path = Tables[table]\n",
    "query = \"How many passengers survived by gender? show me the SQL\"\n",
    "\n",
    "# -*- Add an initial system message\n",
    "duckgpt_messages = [\n",
    "    {\n",
    "        \"role\": \"system\",\n",
    "        \"content\": \"\"\"You are a helpful assistant that answers natural language questions by querying data using duckdb\"\"\",  # noqa: E501\n",
    "    },\n",
    "]\n",
    "\n",
    "# -*- Load data to duckdb\n",
    "_loaded_table_name, executed_query = load_s3_path_to_table(\n",
    "    duckdb_connection, s3_data_path\n",
    ")\n",
    "logger.info(f\"Table: {_loaded_table_name} loaded\")\n",
    "\n",
    "# -*- Add executed_query to messages\n",
    "duckgpt_messages.append(\n",
    "    {\n",
    "        \"role\": \"system\",\n",
    "        \"content\": dedent(\n",
    "            \"\"\"\\\n",
    "        Startup SQL Queries:\n",
    "        ```\n",
    "        {}\n",
    "        ```\n",
    "    \"\"\".format(\n",
    "                executed_query\n",
    "            )\n",
    "        ),\n",
    "    },\n",
    ")\n",
    "\n",
    "# -*- Add user query\n",
    "duckgpt_messages.append({\"role\": \"user\", \"content\": query})\n",
    "\n",
    "# -*- Create input for agent\n",
    "inputs = {\n",
    "    \"input\": duckgpt_messages,\n",
    "    \"table_names\": run_duckdb_query(duckdb_connection, \"show tables\"),\n",
    "}\n",
    "\n",
    "# -*- Generate response\n",
    "result = duckdb_agent(inputs)\n",
    "\n",
    "# -*- Get the output\n",
    "if \"output\" in result:\n",
    "    logger.info(result[\"output\"])\n",
    "else:\n",
    "    logger.error(\"Could not understand\")"
   ]
  }
 ],
 "metadata": {
  "kernelspec": {
   "display_name": "Python 3 (ipykernel)",
   "language": "python",
   "name": "python3"
  },
  "language_info": {
   "codemirror_mode": {
    "name": "ipython",
    "version": 3
   },
   "file_extension": ".py",
   "mimetype": "text/x-python",
   "name": "python",
   "nbconvert_exporter": "python",
   "pygments_lexer": "ipython3",
   "version": "3.9.15"
  }
 },
 "nbformat": 4,
 "nbformat_minor": 5
}
